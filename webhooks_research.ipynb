{
 "cells": [
  {
   "cell_type": "code",
   "id": "initial_id",
   "metadata": {
    "collapsed": true,
    "ExecuteTime": {
     "end_time": "2025-05-04T08:59:49.274874Z",
     "start_time": "2025-05-04T08:59:49.261814Z"
    }
   },
   "source": [
    "from flask import Flask, request, jsonify\n",
    "from google.cloud import bigquery\n",
    "import os\n",
    "import pandas as pd\n",
    "import json"
   ],
   "outputs": [],
   "execution_count": 5
  },
  {
   "metadata": {
    "ExecuteTime": {
     "end_time": "2025-05-04T08:59:50.378290Z",
     "start_time": "2025-05-04T08:59:50.373710Z"
    }
   },
   "cell_type": "code",
   "source": [
    "project_id = \"ticket-sauce-data\"\n",
    "try:\n",
    "    os.environ[\"GOOGLE_APPLICATION_CREDENTIALS\"] = \"ticket-sauce-data-58c586aceed9.json\"\n",
    "except:\n",
    "    pass"
   ],
   "id": "3c05f2143adf99d8",
   "outputs": [],
   "execution_count": 6
  },
  {
   "metadata": {
    "ExecuteTime": {
     "end_time": "2025-05-04T08:59:54.401350Z",
     "start_time": "2025-05-04T08:59:54.331641Z"
    }
   },
   "cell_type": "code",
   "source": [
    "app = Flask(__name__)\n",
    "bq_client = bigquery.Client()\n",
    "\n",
    "# Replace this with your staging table\n",
    "STAGING_TABLE = \"your_project.dataset.staging_tickets\"\n",
    "\n",
    "@app.route('/webhook', methods=['POST'])\n",
    "def webhook():\n",
    "    try:\n",
    "        data = request.get_json()\n",
    "        if not data:\n",
    "            return jsonify({\"error\": \"Invalid JSON\"}), 400\n",
    "\n",
    "        # Handle both list of events or single event\n",
    "        if isinstance(data, dict):\n",
    "            records = [data]\n",
    "        else:\n",
    "            records = data\n",
    "\n",
    "        df = pd.json_normalize(records)\n",
    "\n",
    "        # Optional: Convert nested fields to string\n",
    "        for col in df.columns:\n",
    "            if df[col].apply(lambda x: isinstance(x, (dict, list))).any():\n",
    "                df[col] = df[col].apply(lambda x: json.dumps(x) if isinstance(x, (dict, list)) else x)\n",
    "\n",
    "        # Upload to BigQuery\n",
    "        job = bq_client.load_table_from_dataframe(df, STAGING_TABLE)\n",
    "        job.result()\n",
    "\n",
    "        return jsonify({\"status\": \"success\", \"rows\": len(df)}), 200\n",
    "\n",
    "    except Exception as e:\n",
    "        return jsonify({\"error\": str(e)}), 500"
   ],
   "id": "764d4b71d637c39c",
   "outputs": [],
   "execution_count": 7
  },
  {
   "metadata": {},
   "cell_type": "code",
   "outputs": [],
   "execution_count": null,
   "source": "",
   "id": "9c228a554f464ed1"
  }
 ],
 "metadata": {
  "kernelspec": {
   "display_name": "Python 3",
   "language": "python",
   "name": "python3"
  },
  "language_info": {
   "codemirror_mode": {
    "name": "ipython",
    "version": 2
   },
   "file_extension": ".py",
   "mimetype": "text/x-python",
   "name": "python",
   "nbconvert_exporter": "python",
   "pygments_lexer": "ipython2",
   "version": "2.7.6"
  }
 },
 "nbformat": 4,
 "nbformat_minor": 5
}
